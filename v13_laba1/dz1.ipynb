{
 "cells": [
  {
   "cell_type": "markdown",
   "metadata": {},
   "source": [
    "# TASK 1"
   ]
  },
  {
   "cell_type": "code",
   "execution_count": 23,
   "metadata": {},
   "outputs": [
    {
     "name": "stdout",
     "output_type": "stream",
     "text": [
      "Скорость (км/ч); Давление (кН);\n",
      "21.6             12.88\n",
      "25.2             13.2\n",
      "28.8             13.57\n",
      "32.4             13.98\n",
      "36.0             14.45\n",
      "39.6             14.96\n",
      "43.2             15.52\n",
      "46.8             16.13\n",
      "50.4             16.8\n",
      "54.0             17.5\n",
      "57.6             18.26\n",
      "61.2             19.07\n",
      "64.8             19.93\n",
      "68.4             20.83\n"
     ]
    }
   ],
   "source": [
    "\n",
    "# Заданные значения\n",
    "\n",
    "P = 12 # кН\n",
    "\n",
    "R = 50 # м\n",
    "\n",
    "g = 9.81 # м/с^2\n",
    "\n",
    "# Значения скорости движения автомобиля\n",
    "\n",
    "start_v = 25 # км/ч\n",
    "\n",
    "end_v = 70 # км/ч\n",
    "\n",
    "step_v = 5 # км/ч\n",
    "\n",
    "# Переводим скорость из км/ч в м/с\n",
    "\n",
    "start_v_ms = start_v * 1000/3600\n",
    "\n",
    "end_v_ms = end_v * 1000/3600\n",
    "\n",
    "step_v_ms = step_v * 1000/3600\n",
    "\n",
    "print(\"Скорость (км/ч);\", \"Давление (кН);\")\n",
    "\n",
    "\n",
    "# Вычисляем и выводим значения давления для каждого значения скорости\n",
    "\n",
    "for v in range(int(start_v_ms), int(end_v_ms)+1, int(step_v_ms)):\n",
    "\n",
    "    F = P + (P / g) * (v**2 / R)\n",
    "\n",
    "    print(v * 3600/1000,'           ', round(F,2))"
   ]
  },
  {
   "cell_type": "markdown",
   "metadata": {},
   "source": [
    "# TASK 2"
   ]
  },
  {
   "cell_type": "code",
   "execution_count": 24,
   "metadata": {},
   "outputs": [
    {
     "name": "stdout",
     "output_type": "stream",
     "text": [
      "Наибольший общий делитель чисел 121 и 77 равен 11\n"
     ]
    }
   ],
   "source": [
    "A = int(input('Введите число A: '))\n",
    "\n",
    "B = int(input('Введите число B: '))\n",
    "\n",
    "def NOD(a, b):\n",
    "\n",
    "    if b == 0:\n",
    "        return a\n",
    "\n",
    "    else:\n",
    "        return NOD(b, a % b)\n",
    "\n",
    "result = NOD(A, B)\n",
    "\n",
    "print('Наибольший общий делитель чисел', A, 'и', B, 'равен', result)"
   ]
  },
  {
   "cell_type": "markdown",
   "metadata": {},
   "source": [
    "# TASK 3\n"
   ]
  },
  {
   "cell_type": "code",
   "execution_count": 26,
   "metadata": {},
   "outputs": [
    {
     "name": "stdout",
     "output_type": "stream",
     "text": [
      "Масса (m2); Ускорение;\n",
      "100         -5.444444444444445\n",
      "120         -4.9\n",
      "140         -4.393103448275863\n",
      "160         -3.9200000000000004\n",
      "180         -3.4774193548387102\n",
      "200         -3.0625\n",
      "220         -2.672727272727273\n",
      "240         -2.3058823529411767\n",
      "260         -1.9600000000000002\n",
      "280         -1.6333333333333333\n",
      "300         -1.3243243243243246\n"
     ]
    }
   ],
   "source": [
    "\n",
    "# Заданы значения масс\n",
    "\n",
    "M = 80\n",
    "\n",
    "m1 = 400 #БОООООЛЬШОЙ ВОПРОС \n",
    "\n",
    "m2_start = 100\n",
    "\n",
    "m2_end = 300\n",
    "\n",
    "m2_step = 20\n",
    "\n",
    "g = 9.8\n",
    "\n",
    "print('Масса (m2);', 'Ускорение;')\n",
    "\n",
    "# Цикл для перебора значений m2\n",
    "\n",
    "for m2 in range(m2_start, m2_end+1, m2_step):\n",
    "\n",
    "    # Вычисление значения ускорения по формуле\n",
    "\n",
    "    a = (m2 - m1) / (m1 + m2 + M/2) * g\n",
    "\n",
    "    # Вывод результата\n",
    "\n",
    "    print(m2,'       ', a)"
   ]
  }
 ],
 "metadata": {
  "kernelspec": {
   "display_name": "Python 3.10.9 64-bit",
   "language": "python",
   "name": "python3"
  },
  "language_info": {
   "codemirror_mode": {
    "name": "ipython",
    "version": 3
   },
   "file_extension": ".py",
   "mimetype": "text/x-python",
   "name": "python",
   "nbconvert_exporter": "python",
   "pygments_lexer": "ipython3",
   "version": "3.10.9"
  },
  "orig_nbformat": 4,
  "vscode": {
   "interpreter": {
    "hash": "71204d661e2f5f603f66ba164cf140978b2fa5aaa9a7eb386ce0a604bc90d349"
   }
  }
 },
 "nbformat": 4,
 "nbformat_minor": 2
}
